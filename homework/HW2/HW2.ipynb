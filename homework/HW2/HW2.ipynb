{
  "cells": [
    {
      "cell_type": "markdown",
      "id": "fe4fc70b",
      "metadata": {
        "id": "fe4fc70b"
      },
      "source": [
        "# Assignment 2 -- CNN\n",
        "\n",
        "## Goal\n",
        "\n",
        "1. Learn to design an CNN architecture.\n",
        "\n",
        "2. Learn to implement and realize the batch normalization.\n",
        "\n",
        "3. Learn to implement the pooling layer.\n",
        "\n",
        "4. Learn to implement the residual block.\n",
        "\n",
        "5. Learn to implement the **fully** convolutional residual network without fully connected layers or MLP.\n",
        "\n",
        "\n",
        "## Score\n",
        "\n",
        "1. Part 4: Batch Normalization 20%\n",
        "\n",
        "2. Part 6: Residual Block 20%\n",
        "\n",
        "3. Part 7: Residual Network 20%\n",
        "\n",
        "4. Model size 15%:\n",
        "\n",
        "* 10%: If your model (the number of parameters) is smaller than **6MB**, you will get 10%. Otherwise, no points will be awarded.\n",
        "* 5%:  The remaining 5% will depend on your ranking within the class.\n",
        "\n",
        "5. Model accuracy 15%:\n",
        "\n",
        "* 10%: If your accuracy is higher than **78%**, you will get 10%. Otherwise, no points will be awarded.\n",
        "* 5%:  The remaining 5% will depend on your ranking within the class.\n",
        "\n",
        "6. Model accuracy on another dataset 10%: it will depand on your ranking within the class.\n",
        "\n",
        "## Rule\n",
        "\n",
        "1. Please do NOT call any existing library for your implementations.\n",
        "2. Please do NOT attempt to modify the sections `DO NOT MODIFY`.\n",
        "\n",
        "## Submission\n",
        "\n",
        "Upload your files to NTU Cool.\n",
        "* This .ipynb file: Please rename this file with the format (DL_HW2_StudentID.ipynb)\n",
        "* Model : .pt file\n",
        "* Output: .csv file\n",
        "\n",
        "Deadline: 4/8 midnight (23:59)"
      ]
    },
    {
      "cell_type": "markdown",
      "id": "0a50507e",
      "metadata": {
        "id": "0a50507e"
      },
      "source": [
        "## Task\n",
        "\n",
        "In the following instuction, please design a **fully** convolutional residual network  to label images from The CIFAR-10 dataset. The CIFAR-10 dataset consists of 60000 32x32 colour images in 10 classes, with 6000 images per class. There are 50000 training images and 10000 test images.\n",
        "\n",
        "Here are the classes in the dataset, as well as 10 random images from each:\n",
        "![picture](https://drive.google.com/uc?id=1ipIz2kN9fbvaDE1tSXgED3Sthhtyy_Gh)\n",
        "\n",
        "The classes are completely mutually exclusive. There is no overlap between automobiles and trucks. \"Automobile\" includes sedans, SUVs, things of that sort. \"Truck\" includes only big trucks. Neither includes pickup trucks.\n",
        "\n",
        "You can find more information on https://www.cs.toronto.edu/~kriz/cifar.html."
      ]
    },
    {
      "cell_type": "markdown",
      "id": "5d37e4aa",
      "metadata": {
        "id": "5d37e4aa"
      },
      "source": [
        "Please fill your student ID number below"
      ]
    },
    {
      "cell_type": "code",
      "execution_count": null,
      "id": "ce70027f",
      "metadata": {
        "id": "ce70027f"
      },
      "outputs": [],
      "source": [
        "# Please fill your student ID number\n",
        "student_id = 'xxxxx'"
      ]
    },
    {
      "cell_type": "markdown",
      "id": "abc0d47f",
      "metadata": {
        "id": "abc0d47f"
      },
      "source": [
        "## Part 1\n",
        "\n",
        "Import the necessary libraries\n",
        "\n",
        "`DO NOT MODIFY`"
      ]
    },
    {
      "cell_type": "code",
      "execution_count": null,
      "id": "67e5db5d",
      "metadata": {
        "id": "67e5db5d"
      },
      "outputs": [],
      "source": [
        "# Model\n",
        "import torch\n",
        "import torch.nn as nn\n",
        "\n",
        "# Dataset\n",
        "from torchvision import datasets\n",
        "from torch.utils.data.dataset import Dataset\n",
        "from torch.utils.data import DataLoader\n",
        "from scipy.io import loadmat\n",
        "\n",
        "# Optimizer\n",
        "from torch.optim.optimizer import Optimizer\n",
        "\n",
        "# Pre-processing\n",
        "import torchvision.transforms as trns\n",
        "from PIL import Image"
      ]
    },
    {
      "cell_type": "markdown",
      "id": "c316e796",
      "metadata": {
        "id": "c316e796"
      },
      "source": [
        "## Part 2\n",
        "\n",
        "`DO NOT MODIFY`\n",
        "\n",
        "Global variables.\n",
        "\n",
        "Please keep these hyper-parameters unchange."
      ]
    },
    {
      "cell_type": "code",
      "execution_count": null,
      "id": "e882625f",
      "metadata": {
        "id": "e882625f"
      },
      "outputs": [],
      "source": [
        "batch_size = 16\n",
        "num_classes = 10\n",
        "input_channel = 3\n",
        "num_epoch = 10\n",
        "device = torch.device('cuda' if torch.cuda.is_available() else 'cpu')"
      ]
    },
    {
      "cell_type": "markdown",
      "id": "293110f1",
      "metadata": {
        "id": "293110f1"
      },
      "source": [
        "## Part 3\n",
        "\n",
        "`DO NOT MODIFY`\n",
        "\n",
        "Create dataloader with pre-processing of dataset."
      ]
    },
    {
      "cell_type": "code",
      "execution_count": null,
      "id": "f008c646",
      "metadata": {
        "id": "f008c646"
      },
      "outputs": [],
      "source": [
        "# Create train/test transforms\n",
        "train_transform = trns.Compose([\n",
        "    trns.ToTensor(),\n",
        "])\n",
        "\n",
        "test_transform = trns.Compose([\n",
        "    trns.ToTensor(),\n",
        "])\n",
        "\n",
        "# Create train/test datasets with pre-processing\n",
        "# The dataset will automatic download if does not exist\n",
        "data_train = datasets.CIFAR10(root='./dataset/', train=True, transform=train_transform, download=True)\n",
        "data_test = datasets.CIFAR10(root='./dataset/', train=False, transform=test_transform, download=True)\n",
        "\n",
        "# Create train/test dataloader for datasets with  pre-processing\n",
        "train_loader = DataLoader(data_train, batch_size=batch_size, shuffle=True)\n",
        "test_loader  = DataLoader(data_test,  batch_size=batch_size, shuffle=False)"
      ]
    },
    {
      "cell_type": "markdown",
      "id": "e8b4d224",
      "metadata": {
        "id": "e8b4d224"
      },
      "source": [
        "## Part 4\n",
        "\n",
        "Please implement batch normalization.\n",
        "\n",
        "![picture](https://drive.google.com/uc?id=1agPNiE0-YmnmMs711RW52CrH67ETSgPU)"
      ]
    },
    {
      "cell_type": "code",
      "execution_count": null,
      "id": "f6fd1263",
      "metadata": {
        "id": "f6fd1263"
      },
      "outputs": [],
      "source": [
        "class myBatchNorm(nn.Module):\n",
        "\n",
        "    def __init__(self, input_channel, eps=1e-4, momentum=0.1):\n",
        "\n",
        "        super().__init__()\n",
        "\n",
        "        self.eps = eps\n",
        "        self.momentum = momentum\n",
        "        shape = (1, input_channel, 1, 1)\n",
        "\n",
        "        self.gamma = nn.Parameter(torch.ones(shape))\n",
        "        self.beta = nn.Parameter(torch.zeros(shape))\n",
        "\n",
        "        self.moving_mean = torch.zeros(shape)\n",
        "        self.moving_var = torch.ones(shape)\n",
        "\n",
        "    def forward(self, x):\n",
        "\n",
        "        if self.moving_mean.device != x.device:\n",
        "            self.moving_mean = self.moving_mean.to(x.device)\n",
        "            self.moving_var = self.moving_var.to(x.device)\n",
        "\n",
        "        y, self.moving_mean, self.moving_var = self.batch_norm(\n",
        "            x, self.gamma, self.beta, self.moving_mean,\n",
        "            self.moving_var, self.eps, self.momentum)\n",
        "\n",
        "        return y\n",
        "\n",
        "    def batch_norm(self, x, gamma, beta, moving_mean, moving_var, eps, momentum):\n",
        "\n",
        "        if not torch.is_grad_enabled():\n",
        "            x_hat = (x - moving_mean) / torch.sqrt(moving_var + eps)\n",
        "\n",
        "        else:\n",
        "            ################################################\n",
        "            # Please fill this part by your implementation #\n",
        "            ################################################\n",
        "\n",
        "        y = gamma * x_hat + beta\n",
        "\n",
        "        return y, moving_mean.data, moving_var.data"
      ]
    },
    {
      "cell_type": "markdown",
      "id": "687402f2",
      "metadata": {
        "id": "687402f2"
      },
      "source": [
        "## Part 5\n",
        "\n",
        "`DO NOT MODIFY`\n",
        "\n",
        "Basic convolutional layer, activation function, and pooling layers."
      ]
    },
    {
      "cell_type": "code",
      "execution_count": null,
      "id": "d8a0d53d",
      "metadata": {
        "id": "d8a0d53d"
      },
      "outputs": [],
      "source": [
        "class myConvolution(nn.Module):\n",
        "\n",
        "    def __init__(self, input_channel, output_channel, kernel_size = 1, stride = 1, padding = 0):\n",
        "\n",
        "        super().__init__()\n",
        "\n",
        "        self.conv = nn.Conv2d(input_channel, output_channel, kernel_size, stride, padding)\n",
        "\n",
        "    def forward(self, x):\n",
        "\n",
        "        return self.conv(x)"
      ]
    },
    {
      "cell_type": "code",
      "execution_count": null,
      "id": "bce19e4d",
      "metadata": {
        "id": "bce19e4d"
      },
      "outputs": [],
      "source": [
        "class myActivation(nn.Module):\n",
        "\n",
        "    def __init__(self):\n",
        "\n",
        "        super().__init__()\n",
        "\n",
        "        # ReLU activation function\n",
        "        self.act = nn.ReLU()\n",
        "\n",
        "    def forward(self, x):\n",
        "\n",
        "        return self.act(x)"
      ]
    },
    {
      "cell_type": "code",
      "execution_count": null,
      "id": "21df0513",
      "metadata": {
        "id": "21df0513"
      },
      "outputs": [],
      "source": [
        "class myMaxPooling(nn.Module):\n",
        "\n",
        "    def __init__(self, kernel_size = 2, stride = 2, padding = 0):\n",
        "\n",
        "        super().__init__()\n",
        "\n",
        "        # Max poling layer\n",
        "        self.pool = nn.MaxPool2d(kernel_size, stride, padding)\n",
        "\n",
        "    def forward(self, x):\n",
        "\n",
        "        return self.pool(x)"
      ]
    },
    {
      "cell_type": "code",
      "execution_count": null,
      "id": "032e1ca8",
      "metadata": {
        "id": "032e1ca8"
      },
      "outputs": [],
      "source": [
        "class myAvgPooling(nn.Module):\n",
        "\n",
        "    def __init__(self, kernel_size = 2, stride = 2, padding = 0):\n",
        "\n",
        "        super().__init__()\n",
        "\n",
        "        # Average poling layer\n",
        "        self.pool = nn.AvgPool2d(kernel_size, stride, padding)\n",
        "\n",
        "    def forward(self, x):\n",
        "\n",
        "        return self.pool(x)"
      ]
    },
    {
      "cell_type": "markdown",
      "id": "607db462",
      "metadata": {
        "id": "607db462"
      },
      "source": [
        "## Part 6\n",
        "\n",
        "Please implement at least one of the following residual blocks.\n",
        "\n",
        "![picture](https://drive.google.com/uc?id=1T-prdNyAWnS5qbmxTwt3d6-KxfijiqYW)"
      ]
    },
    {
      "cell_type": "code",
      "execution_count": null,
      "id": "e4ca533e",
      "metadata": {
        "id": "e4ca533e"
      },
      "outputs": [],
      "source": [
        "class myResBlock(nn.Module):\n",
        "\n",
        "    def __init__(self, input_channel, med_channel, stride = 1, padding = 1):\n",
        "\n",
        "        super().__init__()\n",
        "\n",
        "        # please fill this part by your implementation\n",
        "\n",
        "    def forward(self, x):\n",
        "\n",
        "        # please fill this part by your implementation\n",
        "\n",
        "        return"
      ]
    },
    {
      "cell_type": "markdown",
      "id": "d5dd4d67",
      "metadata": {
        "id": "d5dd4d67"
      },
      "source": [
        "## Part 7\n",
        "\n",
        "Please design your CNN architecture using the implementation of {myBatchNorm, myConvolution, myMaxPooling, myAvgPooling, myActivation, myResBlock}.\n",
        "\n",
        "You have the flexibility to determine the number of layers, the number of hidden neurons in each layer, and the activation function of each layer to design your CNN. Please note that your score will depend on both the size and accuracy of your model."
      ]
    },
    {
      "cell_type": "code",
      "execution_count": null,
      "id": "7045cab9",
      "metadata": {
        "id": "7045cab9"
      },
      "outputs": [],
      "source": [
        "class myCNN(nn.Module):\n",
        "\n",
        "    def __init__(self, input_channel, num_classes):\n",
        "\n",
        "        super(myCNN, self).__init__()\n",
        "\n",
        "        # example: 5 convolutional layer CNN + 2 hidden layer MLP\n",
        "        self.cnn = nn.Sequential(\n",
        "            # CNN\n",
        "            myConvolution(input_channel, 256, 3, 1, 1),\n",
        "            myActivation(),\n",
        "            myMaxPooling(2),\n",
        "            myConvolution(256, 256, 3, 1, 1),\n",
        "            myActivation(),\n",
        "            myMaxPooling(2),\n",
        "            myConvolution(256, 256, 3, 1, 1),\n",
        "            myActivation(),\n",
        "            myMaxPooling(2),\n",
        "            myConvolution(256, 256, 3, 1, 1),\n",
        "            myActivation(),\n",
        "            myMaxPooling(2),\n",
        "            myConvolution(256, 256, 3, 1, 1),\n",
        "            myActivation(),\n",
        "            # MLP\n",
        "            nn.Flatten(1),\n",
        "            nn.Linear(1024, 256),\n",
        "            myActivation(),\n",
        "            nn.Linear(256, 256),\n",
        "            myActivation(),\n",
        "            nn.Linear(256, num_classes)\n",
        "        )\n",
        "\n",
        "    def forward(self, x):\n",
        "\n",
        "        out = self.cnn(x)\n",
        "\n",
        "        return out\n",
        "\n",
        "model = myCNN(input_channel, num_classes).to(device)"
      ]
    },
    {
      "cell_type": "markdown",
      "id": "41a7d1da",
      "metadata": {
        "id": "41a7d1da"
      },
      "source": [
        "## Part 8\n",
        "\n",
        "`DO NOT MODIFY`\n",
        "\n",
        "Multiclass cross-entropy loss"
      ]
    },
    {
      "cell_type": "code",
      "execution_count": null,
      "id": "2e16dbca",
      "metadata": {
        "id": "2e16dbca"
      },
      "outputs": [],
      "source": [
        "criterion = nn.CrossEntropyLoss()"
      ]
    },
    {
      "cell_type": "markdown",
      "id": "1522cb8a",
      "metadata": {
        "id": "1522cb8a"
      },
      "source": [
        "## Part 9\n",
        "\n",
        "`DO NOT MODIFY`\n",
        "\n",
        "Mini-batch SGD with momentum and weight decay."
      ]
    },
    {
      "cell_type": "code",
      "execution_count": null,
      "id": "3c5df22d",
      "metadata": {
        "id": "3c5df22d"
      },
      "outputs": [],
      "source": [
        "optimizer = torch.optim.SGD(model.parameters(), lr=0.01, momentum=0.9, weight_decay=0.0001)"
      ]
    },
    {
      "cell_type": "markdown",
      "id": "d20afbce",
      "metadata": {
        "id": "d20afbce"
      },
      "source": [
        "## Part 10\n",
        "\n",
        "`DO NOT MODIFY`\n",
        "\n",
        "Model training"
      ]
    },
    {
      "cell_type": "code",
      "execution_count": null,
      "id": "008bdc73",
      "metadata": {
        "id": "008bdc73"
      },
      "outputs": [],
      "source": [
        "model.train()\n",
        "\n",
        "for epoch in range(num_epoch):\n",
        "\n",
        "    losses = []\n",
        "\n",
        "    for batch_num, input_data in enumerate(train_loader):\n",
        "\n",
        "        optimizer.zero_grad()\n",
        "\n",
        "        x, y = input_data\n",
        "        x = x.to(device).float()\n",
        "        y = y.to(device)\n",
        "\n",
        "        output = model(x)\n",
        "        loss = criterion(output, y)\n",
        "        loss.backward()\n",
        "        losses.append(loss.item())\n",
        "\n",
        "        optimizer.step()\n",
        "\n",
        "        if batch_num % 500 == 0:\n",
        "            print('\\tEpoch %d | Batch %d | Loss %6.4f' % (epoch, batch_num, loss.item()))\n",
        "\n",
        "    print('Epoch %d | Loss %6.4f' % (epoch, sum(losses)/len(losses)))\n",
        "\n",
        "torch.save(model, student_id + '_submission.pt')"
      ]
    },
    {
      "cell_type": "markdown",
      "id": "ed922190",
      "metadata": {
        "id": "ed922190"
      },
      "source": [
        "## Part 11\n",
        "\n",
        "`DO NOT MODIFY`\n",
        "\n",
        "Model evaluation"
      ]
    },
    {
      "cell_type": "code",
      "execution_count": null,
      "id": "fc906220",
      "metadata": {
        "id": "fc906220"
      },
      "outputs": [],
      "source": [
        "import csv\n",
        "model.eval()\n",
        "\n",
        "with open(student_id + '_submission.csv', 'w') as f:\n",
        "\n",
        "    fieldnames = ['ImageId', 'Prediction', 'Label']\n",
        "\n",
        "    writer = csv.DictWriter(f, fieldnames=fieldnames, lineterminator = '\\n')\n",
        "    writer.writeheader()\n",
        "\n",
        "    correct = 0\n",
        "    total = 0\n",
        "\n",
        "    with torch.no_grad():\n",
        "\n",
        "        for x, t in test_loader:\n",
        "\n",
        "            x = x.to(device).float()\n",
        "            output = model(x).argmax(dim=1)\n",
        "\n",
        "            for y,l in zip(output, t):\n",
        "\n",
        "                writer.writerow({fieldnames[0]: (total+1),\n",
        "                                 fieldnames[1]: y.item(),\n",
        "                                 fieldnames[2]: l.item()})\n",
        "\n",
        "                total += 1\n",
        "                if y.item() == l.item():\n",
        "                    correct += 1\n",
        "\n",
        "    print('Accuracy: %6.4f' % (correct / total))"
      ]
    },
    {
      "cell_type": "code",
      "execution_count": null,
      "id": "cc305626",
      "metadata": {
        "id": "cc305626"
      },
      "outputs": [],
      "source": []
    }
  ],
  "metadata": {
    "kernelspec": {
      "display_name": "Python 3 (ipykernel)",
      "language": "python",
      "name": "python3"
    },
    "language_info": {
      "codemirror_mode": {
        "name": "ipython",
        "version": 3
      },
      "file_extension": ".py",
      "mimetype": "text/x-python",
      "name": "python",
      "nbconvert_exporter": "python",
      "pygments_lexer": "ipython3",
      "version": "3.9.13"
    },
    "colab": {
      "provenance": []
    }
  },
  "nbformat": 4,
  "nbformat_minor": 5
}