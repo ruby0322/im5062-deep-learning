{
  "cells": [
    {
      "cell_type": "markdown",
      "id": "fe4fc70b",
      "metadata": {
        "id": "fe4fc70b"
      },
      "source": [
        "# Assignment 2 -- CNN\n",
        "\n",
        "## Goal\n",
        "\n",
        "1. Learn to design an CNN architecture.\n",
        "\n",
        "2. Learn to implement and realize the batch normalization.\n",
        "\n",
        "3. Learn to implement the pooling layer.\n",
        "\n",
        "4. Learn to implement the residual block.\n",
        "\n",
        "5. Learn to implement the **fully** convolutional residual network without fully connected layers or MLP.\n",
        "\n",
        "\n",
        "## Score\n",
        "\n",
        "1. Part 4: Batch Normalization 20%\n",
        "\n",
        "2. Part 6: Residual Block 20%\n",
        "\n",
        "3. Part 7: Residual Network 20%\n",
        "\n",
        "4. Model size 15%:\n",
        "\n",
        "* 10%: If your model (the number of parameters) is smaller than **6MB**, you will get 10%. Otherwise, no points will be awarded.\n",
        "* 5%:  The remaining 5% will depend on your ranking within the class.\n",
        "\n",
        "5. Model accuracy 15%:\n",
        "\n",
        "* 10%: If your accuracy is higher than **78%**, you will get 10%. Otherwise, no points will be awarded.\n",
        "* 5%:  The remaining 5% will depend on your ranking within the class.\n",
        "\n",
        "6. Model accuracy on another dataset 10%: it will depand on your ranking within the class.\n",
        "\n",
        "## Rule\n",
        "\n",
        "1. Please do NOT call any existing library for your implementations.\n",
        "2. Please do NOT attempt to modify the sections `DO NOT MODIFY`.\n",
        "\n",
        "## Submission\n",
        "\n",
        "Upload your files to NTU Cool.\n",
        "* This .ipynb file: Please rename this file with the format (DL_HW2_StudentID.ipynb)\n",
        "* Model : .pt file\n",
        "* Output: .csv file\n",
        "\n",
        "Deadline: 4/8 midnight (23:59)"
      ]
    },
    {
      "cell_type": "markdown",
      "id": "0a50507e",
      "metadata": {
        "id": "0a50507e"
      },
      "source": [
        "## Task\n",
        "\n",
        "In the following instuction, please design a **fully** convolutional residual network  to label images from The CIFAR-10 dataset. The CIFAR-10 dataset consists of 60000 32x32 colour images in 10 classes, with 6000 images per class. There are 50000 training images and 10000 test images.\n",
        "\n",
        "Here are the classes in the dataset, as well as 10 random images from each:\n",
        "![picture](https://drive.google.com/uc?id=1ipIz2kN9fbvaDE1tSXgED3Sthhtyy_Gh)\n",
        "\n",
        "The classes are completely mutually exclusive. There is no overlap between automobiles and trucks. \"Automobile\" includes sedans, SUVs, things of that sort. \"Truck\" includes only big trucks. Neither includes pickup trucks.\n",
        "\n",
        "You can find more information on https://www.cs.toronto.edu/~kriz/cifar.html."
      ]
    },
    {
      "cell_type": "markdown",
      "id": "5d37e4aa",
      "metadata": {
        "id": "5d37e4aa"
      },
      "source": [
        "Please fill your student ID number below"
      ]
    },
    {
      "cell_type": "code",
      "execution_count": 60,
      "id": "ce70027f",
      "metadata": {
        "id": "ce70027f"
      },
      "outputs": [],
      "source": [
        "# Please fill your student ID number\n",
        "student_id = 'b10705016'"
      ]
    },
    {
      "cell_type": "markdown",
      "id": "abc0d47f",
      "metadata": {
        "id": "abc0d47f"
      },
      "source": [
        "## Part 1\n",
        "\n",
        "Import the necessary libraries\n",
        "\n",
        "`DO NOT MODIFY`"
      ]
    },
    {
      "cell_type": "code",
      "execution_count": 61,
      "id": "67e5db5d",
      "metadata": {
        "id": "67e5db5d"
      },
      "outputs": [],
      "source": [
        "# Model\n",
        "import torch\n",
        "import torch.nn as nn\n",
        "\n",
        "# Dataset\n",
        "from torchvision import datasets\n",
        "from torch.utils.data.dataset import Dataset\n",
        "from torch.utils.data import DataLoader\n",
        "from scipy.io import loadmat\n",
        "\n",
        "# Optimizer\n",
        "from torch.optim.optimizer import Optimizer\n",
        "\n",
        "# Pre-processing\n",
        "import torchvision.transforms as trns\n",
        "from PIL import Image"
      ]
    },
    {
      "cell_type": "markdown",
      "id": "c316e796",
      "metadata": {
        "id": "c316e796"
      },
      "source": [
        "## Part 2\n",
        "\n",
        "`DO NOT MODIFY`\n",
        "\n",
        "Global variables.\n",
        "\n",
        "Please keep these hyper-parameters unchange."
      ]
    },
    {
      "cell_type": "code",
      "execution_count": 62,
      "id": "e882625f",
      "metadata": {
        "id": "e882625f"
      },
      "outputs": [],
      "source": [
        "batch_size = 16\n",
        "num_classes = 10\n",
        "input_channel = 3\n",
        "num_epoch = 10\n",
        "device = torch.device('cuda' if torch.cuda.is_available() else 'cpu')"
      ]
    },
    {
      "cell_type": "markdown",
      "id": "293110f1",
      "metadata": {
        "id": "293110f1"
      },
      "source": [
        "## Part 3\n",
        "\n",
        "`DO NOT MODIFY`\n",
        "\n",
        "Create dataloader with pre-processing of dataset."
      ]
    },
    {
      "cell_type": "code",
      "execution_count": 63,
      "id": "f008c646",
      "metadata": {
        "id": "f008c646",
        "colab": {
          "base_uri": "https://localhost:8080/"
        },
        "outputId": "2b3bbb67-57df-4a77-d428-46049b8822bc"
      },
      "outputs": [
        {
          "output_type": "stream",
          "name": "stdout",
          "text": [
            "Files already downloaded and verified\n",
            "Files already downloaded and verified\n"
          ]
        }
      ],
      "source": [
        "# Create train/test transforms\n",
        "train_transform = trns.Compose([\n",
        "    trns.ToTensor(),\n",
        "])\n",
        "\n",
        "test_transform = trns.Compose([\n",
        "    trns.ToTensor(),\n",
        "])\n",
        "\n",
        "# Create train/test datasets with pre-processing\n",
        "# The dataset will automatic download if does not exist\n",
        "data_train = datasets.CIFAR10(root='./dataset/', train=True, transform=train_transform, download=True)\n",
        "data_test = datasets.CIFAR10(root='./dataset/', train=False, transform=test_transform, download=True)\n",
        "\n",
        "# Create train/test dataloader for datasets with  pre-processing\n",
        "train_loader = DataLoader(data_train, batch_size=batch_size, shuffle=True)\n",
        "test_loader  = DataLoader(data_test,  batch_size=batch_size, shuffle=False)"
      ]
    },
    {
      "cell_type": "markdown",
      "id": "e8b4d224",
      "metadata": {
        "id": "e8b4d224"
      },
      "source": [
        "## Part 4\n",
        "\n",
        "Please implement batch normalization.\n",
        "\n",
        "![picture](https://drive.google.com/uc?id=1agPNiE0-YmnmMs711RW52CrH67ETSgPU)"
      ]
    },
    {
      "cell_type": "code",
      "execution_count": 64,
      "id": "f6fd1263",
      "metadata": {
        "id": "f6fd1263"
      },
      "outputs": [],
      "source": [
        "class myBatchNorm(nn.Module):\n",
        "\n",
        "    def __init__(self, input_channel, eps=1e-4, momentum=0.1):\n",
        "\n",
        "        super().__init__()\n",
        "\n",
        "        self.eps = eps\n",
        "        self.momentum = momentum\n",
        "        shape = (1, input_channel, 1, 1)\n",
        "\n",
        "        self.gamma = nn.Parameter(torch.ones(shape))\n",
        "        self.beta = nn.Parameter(torch.zeros(shape))\n",
        "\n",
        "        self.moving_mean = torch.zeros(shape)\n",
        "        self.moving_var = torch.ones(shape)\n",
        "\n",
        "    def forward(self, x):\n",
        "\n",
        "        if self.moving_mean.device != x.device:\n",
        "            self.moving_mean = self.moving_mean.to(x.device)\n",
        "            self.moving_var = self.moving_var.to(x.device)\n",
        "\n",
        "        y, self.moving_mean, self.moving_var = self.batch_norm(\n",
        "            x, self.gamma, self.beta, self.moving_mean,\n",
        "            self.moving_var, self.eps, self.momentum)\n",
        "\n",
        "        return y\n",
        "\n",
        "    def batch_norm(self, x, gamma, beta, moving_mean, moving_var, eps, momentum):\n",
        "        if not torch.is_grad_enabled():\n",
        "            # Use moving averages for inference\n",
        "            x_hat = (x - moving_mean) / torch.sqrt(moving_var + eps)\n",
        "        else:\n",
        "            # Compute mean and variance from x (current batch) for training\n",
        "            batch_mean = torch.mean(x, dim=(0, 2, 3), keepdim=True)\n",
        "            batch_var = torch.var(x, dim=(0, 2, 3), keepdim=True, unbiased=False)\n",
        "\n",
        "            # Normalize the input\n",
        "            x_hat = (x - batch_mean) / torch.sqrt(batch_var + eps)\n",
        "\n",
        "            # Update moving averages\n",
        "            moving_mean.data = momentum * moving_mean.data + (1.0 - momentum) * batch_mean.data\n",
        "            moving_var.data = momentum * moving_var.data + (1.0 - momentum) * batch_var.data\n",
        "\n",
        "        # Scale and shift\n",
        "        y = gamma * x_hat + beta\n",
        "\n",
        "        return y, moving_mean, moving_var\n"
      ]
    },
    {
      "cell_type": "markdown",
      "id": "687402f2",
      "metadata": {
        "id": "687402f2"
      },
      "source": [
        "## Part 5\n",
        "\n",
        "`DO NOT MODIFY`\n",
        "\n",
        "Basic convolutional layer, activation function, and pooling layers."
      ]
    },
    {
      "cell_type": "code",
      "execution_count": 65,
      "id": "d8a0d53d",
      "metadata": {
        "id": "d8a0d53d"
      },
      "outputs": [],
      "source": [
        "class myConvolution(nn.Module):\n",
        "\n",
        "    def __init__(self, input_channel, output_channel, kernel_size = 1, stride = 1, padding = 0):\n",
        "\n",
        "        super().__init__()\n",
        "\n",
        "        self.conv = nn.Conv2d(input_channel, output_channel, kernel_size, stride, padding)\n",
        "\n",
        "    def forward(self, x):\n",
        "\n",
        "        return self.conv(x)"
      ]
    },
    {
      "cell_type": "code",
      "execution_count": 66,
      "id": "bce19e4d",
      "metadata": {
        "id": "bce19e4d"
      },
      "outputs": [],
      "source": [
        "class myActivation(nn.Module):\n",
        "\n",
        "    def __init__(self):\n",
        "\n",
        "        super().__init__()\n",
        "\n",
        "        # ReLU activation function\n",
        "        self.act = nn.ReLU()\n",
        "\n",
        "    def forward(self, x):\n",
        "\n",
        "        return self.act(x)"
      ]
    },
    {
      "cell_type": "code",
      "execution_count": 67,
      "id": "21df0513",
      "metadata": {
        "id": "21df0513"
      },
      "outputs": [],
      "source": [
        "class myMaxPooling(nn.Module):\n",
        "\n",
        "    def __init__(self, kernel_size = 2, stride = 2, padding = 0):\n",
        "\n",
        "        super().__init__()\n",
        "\n",
        "        # Max poling layer\n",
        "        self.pool = nn.MaxPool2d(kernel_size, stride, padding)\n",
        "\n",
        "    def forward(self, x):\n",
        "\n",
        "        return self.pool(x)"
      ]
    },
    {
      "cell_type": "code",
      "execution_count": 68,
      "id": "032e1ca8",
      "metadata": {
        "id": "032e1ca8"
      },
      "outputs": [],
      "source": [
        "class myAvgPooling(nn.Module):\n",
        "\n",
        "    def __init__(self, kernel_size = 2, stride = 2, padding = 0):\n",
        "\n",
        "        super().__init__()\n",
        "\n",
        "        # Average poling layer\n",
        "        self.pool = nn.AvgPool2d(kernel_size, stride, padding)\n",
        "\n",
        "    def forward(self, x):\n",
        "\n",
        "        return self.pool(x)"
      ]
    },
    {
      "cell_type": "markdown",
      "id": "607db462",
      "metadata": {
        "id": "607db462"
      },
      "source": [
        "## Part 6\n",
        "\n",
        "Please implement at least one of the following residual blocks.\n",
        "\n",
        "![picture](https://drive.google.com/uc?id=1T-prdNyAWnS5qbmxTwt3d6-KxfijiqYW)"
      ]
    },
    {
      "cell_type": "code",
      "execution_count": 69,
      "id": "e4ca533e",
      "metadata": {
        "id": "e4ca533e"
      },
      "outputs": [],
      "source": [
        "class myResBlock(nn.Module):\n",
        "    def __init__(self, input_channel, med_channel, stride=1, padding=1):\n",
        "        super(myResBlock, self).__init__()\n",
        "        # First Conv -> BN -> ReLU\n",
        "        self.conv1 = myConvolution(input_channel, med_channel, kernel_size=3, stride=stride, padding=padding)\n",
        "        self.bn1 = myBatchNorm(med_channel)\n",
        "        self.relu = myActivation()\n",
        "\n",
        "        # Second Conv -> BN\n",
        "        self.conv2 = myConvolution(med_channel, med_channel, kernel_size=3, stride=1, padding=padding)\n",
        "        self.bn2 = myBatchNorm(med_channel)\n",
        "\n",
        "        # Shortcut connection\n",
        "        self.shortcut = nn.Sequential()\n",
        "        if stride != 1 or input_channel != med_channel:\n",
        "            # Adjusting the shortcut to match dimensions if needed\n",
        "            self.shortcut = nn.Sequential(\n",
        "                myConvolution(input_channel, med_channel, kernel_size=1, stride=stride),\n",
        "                myBatchNorm(med_channel)\n",
        "            )\n",
        "\n",
        "    def forward(self, x):\n",
        "        identity = self.shortcut(x)\n",
        "\n",
        "        out = self.conv1(x)\n",
        "        out = self.bn1(out)\n",
        "        out = self.relu(out)\n",
        "\n",
        "        out = self.conv2(out)\n",
        "        out = self.bn2(out)\n",
        "\n",
        "        # Adding the identity (skip connection)\n",
        "        out += identity\n",
        "        out = self.relu(out)\n",
        "\n",
        "        return out\n"
      ]
    },
    {
      "cell_type": "markdown",
      "id": "d5dd4d67",
      "metadata": {
        "id": "d5dd4d67"
      },
      "source": [
        "## Part 7\n",
        "\n",
        "Please design your CNN architecture using the implementation of {myBatchNorm, myConvolution, myMaxPooling, myAvgPooling, myActivation, myResBlock}.\n",
        "\n",
        "You have the flexibility to determine the number of layers, the number of hidden neurons in each layer, and the activation function of each layer to design your CNN. Please note that your score will depend on both the size and accuracy of your model."
      ]
    },
    {
      "cell_type": "code",
      "execution_count": 70,
      "id": "7045cab9",
      "metadata": {
        "id": "7045cab9"
      },
      "outputs": [],
      "source": [
        "class myCNN(nn.Module):\n",
        "    def __init__(self, input_channel=3, num_classes=10):\n",
        "        super(myCNN, self).__init__()\n",
        "        # Define the sequence of ResBlocks and Pooling layers\n",
        "        self.layer1 = myResBlock(input_channel, 128)\n",
        "        self.pool1 = myMaxPooling(2, 2)\n",
        "        self.layer2 = myResBlock(128, 64)\n",
        "        self.pool2 = myMaxPooling(2, 2)\n",
        "        self.layer3 = myResBlock(64, 32)\n",
        "        self.pool3 = myMaxPooling(2, 2)\n",
        "        self.layer4 = myResBlock(32, 128)\n",
        "        self.pool4 = myMaxPooling(2, 2)\n",
        "        self.layer5 = myResBlock(128, 256)\n",
        "        self.pool5 = myMaxPooling(2, 2)\n",
        "        self.layer6 = myResBlock(256, num_classes)\n",
        "        self.avgpool = myAvgPooling((1, 1))  # Global average pooling to reduce spatial dimensions to 1x1\n",
        "\n",
        "    def forward(self, x):\n",
        "        x = self.layer1(x)\n",
        "        x = self.pool1(x)\n",
        "        x = self.layer2(x)\n",
        "        x = self.pool2(x)\n",
        "        x = self.layer3(x)\n",
        "        x = self.pool3(x)\n",
        "        x = self.layer4(x)\n",
        "        x = self.pool4(x)\n",
        "        x = self.layer5(x)\n",
        "        x = self.pool5(x)\n",
        "        x = self.layer6(x)\n",
        "        x = self.avgpool(x)\n",
        "        x = torch.flatten(x, 1)\n",
        "\n",
        "        return x\n",
        "\n",
        "model = myCNN(input_channel, num_classes).to(device)"
      ]
    },
    {
      "cell_type": "markdown",
      "id": "41a7d1da",
      "metadata": {
        "id": "41a7d1da"
      },
      "source": [
        "## Part 8\n",
        "\n",
        "`DO NOT MODIFY`\n",
        "\n",
        "Multiclass cross-entropy loss"
      ]
    },
    {
      "cell_type": "code",
      "execution_count": 71,
      "id": "2e16dbca",
      "metadata": {
        "id": "2e16dbca"
      },
      "outputs": [],
      "source": [
        "criterion = nn.CrossEntropyLoss()"
      ]
    },
    {
      "cell_type": "markdown",
      "id": "1522cb8a",
      "metadata": {
        "id": "1522cb8a"
      },
      "source": [
        "## Part 9\n",
        "\n",
        "`DO NOT MODIFY`\n",
        "\n",
        "Mini-batch SGD with momentum and weight decay."
      ]
    },
    {
      "cell_type": "code",
      "execution_count": 72,
      "id": "3c5df22d",
      "metadata": {
        "id": "3c5df22d"
      },
      "outputs": [],
      "source": [
        "optimizer = torch.optim.SGD(model.parameters(), lr=0.01, momentum=0.9, weight_decay=0.0001)"
      ]
    },
    {
      "cell_type": "markdown",
      "id": "d20afbce",
      "metadata": {
        "id": "d20afbce"
      },
      "source": [
        "## Part 10\n",
        "\n",
        "`DO NOT MODIFY`\n",
        "\n",
        "Model training"
      ]
    },
    {
      "cell_type": "code",
      "execution_count": 73,
      "id": "008bdc73",
      "metadata": {
        "id": "008bdc73",
        "colab": {
          "base_uri": "https://localhost:8080/"
        },
        "outputId": "fa245367-0ad5-4cd3-d139-ff609f52ffed"
      },
      "outputs": [
        {
          "output_type": "stream",
          "name": "stdout",
          "text": [
            "\tEpoch 0 | Batch 0 | Loss 2.9537\n",
            "\tEpoch 0 | Batch 500 | Loss 1.5500\n",
            "\tEpoch 0 | Batch 1000 | Loss 1.3492\n",
            "\tEpoch 0 | Batch 1500 | Loss 1.2026\n",
            "\tEpoch 0 | Batch 2000 | Loss 1.4346\n",
            "\tEpoch 0 | Batch 2500 | Loss 1.0975\n",
            "\tEpoch 0 | Batch 3000 | Loss 1.0860\n",
            "Epoch 0 | Loss 1.2908\n",
            "\tEpoch 1 | Batch 0 | Loss 0.2640\n",
            "\tEpoch 1 | Batch 500 | Loss 0.7613\n",
            "\tEpoch 1 | Batch 1000 | Loss 0.8320\n",
            "\tEpoch 1 | Batch 1500 | Loss 0.6086\n",
            "\tEpoch 1 | Batch 2000 | Loss 0.7496\n",
            "\tEpoch 1 | Batch 2500 | Loss 1.3592\n",
            "\tEpoch 1 | Batch 3000 | Loss 0.8054\n",
            "Epoch 1 | Loss 0.8909\n",
            "\tEpoch 2 | Batch 0 | Loss 0.3259\n",
            "\tEpoch 2 | Batch 500 | Loss 0.8763\n",
            "\tEpoch 2 | Batch 1000 | Loss 0.6875\n",
            "\tEpoch 2 | Batch 1500 | Loss 1.0773\n",
            "\tEpoch 2 | Batch 2000 | Loss 0.7218\n",
            "\tEpoch 2 | Batch 2500 | Loss 0.9519\n",
            "\tEpoch 2 | Batch 3000 | Loss 0.2953\n",
            "Epoch 2 | Loss 0.7291\n",
            "\tEpoch 3 | Batch 0 | Loss 0.5826\n",
            "\tEpoch 3 | Batch 500 | Loss 0.7251\n",
            "\tEpoch 3 | Batch 1000 | Loss 0.4232\n",
            "\tEpoch 3 | Batch 1500 | Loss 0.2890\n",
            "\tEpoch 3 | Batch 2000 | Loss 0.7856\n",
            "\tEpoch 3 | Batch 2500 | Loss 0.5845\n",
            "\tEpoch 3 | Batch 3000 | Loss 0.6819\n",
            "Epoch 3 | Loss 0.6213\n",
            "\tEpoch 4 | Batch 0 | Loss 0.4804\n",
            "\tEpoch 4 | Batch 500 | Loss 0.4646\n",
            "\tEpoch 4 | Batch 1000 | Loss 1.0359\n",
            "\tEpoch 4 | Batch 1500 | Loss 0.4178\n",
            "\tEpoch 4 | Batch 2000 | Loss 0.4444\n",
            "\tEpoch 4 | Batch 2500 | Loss 0.9071\n",
            "\tEpoch 4 | Batch 3000 | Loss 0.9586\n",
            "Epoch 4 | Loss 0.5465\n",
            "\tEpoch 5 | Batch 0 | Loss 0.5072\n",
            "\tEpoch 5 | Batch 500 | Loss 0.5273\n",
            "\tEpoch 5 | Batch 1000 | Loss 0.8824\n",
            "\tEpoch 5 | Batch 1500 | Loss 0.5175\n",
            "\tEpoch 5 | Batch 2000 | Loss 0.3378\n",
            "\tEpoch 5 | Batch 2500 | Loss 0.7276\n",
            "\tEpoch 5 | Batch 3000 | Loss 0.2875\n",
            "Epoch 5 | Loss 0.4846\n",
            "\tEpoch 6 | Batch 0 | Loss 0.4775\n",
            "\tEpoch 6 | Batch 500 | Loss 0.8071\n",
            "\tEpoch 6 | Batch 1000 | Loss 0.2614\n",
            "\tEpoch 6 | Batch 1500 | Loss 0.2388\n",
            "\tEpoch 6 | Batch 2000 | Loss 0.6170\n",
            "\tEpoch 6 | Batch 2500 | Loss 1.1131\n",
            "\tEpoch 6 | Batch 3000 | Loss 0.2411\n",
            "Epoch 6 | Loss 0.4357\n",
            "\tEpoch 7 | Batch 0 | Loss 0.7717\n",
            "\tEpoch 7 | Batch 500 | Loss 0.1627\n",
            "\tEpoch 7 | Batch 1000 | Loss 0.2181\n",
            "\tEpoch 7 | Batch 1500 | Loss 0.1630\n",
            "\tEpoch 7 | Batch 2000 | Loss 0.3570\n",
            "\tEpoch 7 | Batch 2500 | Loss 0.2758\n",
            "\tEpoch 7 | Batch 3000 | Loss 0.2327\n",
            "Epoch 7 | Loss 0.3835\n",
            "\tEpoch 8 | Batch 0 | Loss 0.5482\n",
            "\tEpoch 8 | Batch 500 | Loss 0.9528\n",
            "\tEpoch 8 | Batch 1000 | Loss 0.1782\n",
            "\tEpoch 8 | Batch 1500 | Loss 0.1551\n",
            "\tEpoch 8 | Batch 2000 | Loss 0.5307\n",
            "\tEpoch 8 | Batch 2500 | Loss 0.3412\n",
            "\tEpoch 8 | Batch 3000 | Loss 0.8478\n",
            "Epoch 8 | Loss 0.3508\n",
            "\tEpoch 9 | Batch 0 | Loss 0.1223\n",
            "\tEpoch 9 | Batch 500 | Loss 0.2330\n",
            "\tEpoch 9 | Batch 1000 | Loss 0.1747\n",
            "\tEpoch 9 | Batch 1500 | Loss 0.2450\n",
            "\tEpoch 9 | Batch 2000 | Loss 0.1483\n",
            "\tEpoch 9 | Batch 2500 | Loss 0.3927\n",
            "\tEpoch 9 | Batch 3000 | Loss 0.4987\n",
            "Epoch 9 | Loss 0.3180\n"
          ]
        }
      ],
      "source": [
        "model.train()\n",
        "\n",
        "for epoch in range(num_epoch):\n",
        "\n",
        "    losses = []\n",
        "\n",
        "    for batch_num, input_data in enumerate(train_loader):\n",
        "\n",
        "        optimizer.zero_grad()\n",
        "\n",
        "        x, y = input_data\n",
        "        x = x.to(device).float()\n",
        "        y = y.to(device)\n",
        "\n",
        "        output = model(x)\n",
        "        loss = criterion(output, y)\n",
        "        loss.backward()\n",
        "        losses.append(loss.item())\n",
        "\n",
        "        optimizer.step()\n",
        "\n",
        "        if batch_num % 500 == 0:\n",
        "            print('\\tEpoch %d | Batch %d | Loss %6.4f' % (epoch, batch_num, loss.item()))\n",
        "\n",
        "    print('Epoch %d | Loss %6.4f' % (epoch, sum(losses)/len(losses)))\n",
        "\n",
        "torch.save(model, student_id + '_submission.pt')"
      ]
    },
    {
      "cell_type": "markdown",
      "id": "ed922190",
      "metadata": {
        "id": "ed922190"
      },
      "source": [
        "## Part 11\n",
        "\n",
        "`DO NOT MODIFY`\n",
        "\n",
        "Model evaluation"
      ]
    },
    {
      "cell_type": "code",
      "execution_count": 74,
      "id": "fc906220",
      "metadata": {
        "id": "fc906220",
        "colab": {
          "base_uri": "https://localhost:8080/"
        },
        "outputId": "283f7fe9-adda-4366-ad32-e3bff9dda2f4"
      },
      "outputs": [
        {
          "output_type": "stream",
          "name": "stdout",
          "text": [
            "Accuracy: 0.8102\n"
          ]
        }
      ],
      "source": [
        "import csv\n",
        "model.eval()\n",
        "\n",
        "with open(student_id + '_submission.csv', 'w') as f:\n",
        "\n",
        "    fieldnames = ['ImageId', 'Prediction', 'Label']\n",
        "\n",
        "    writer = csv.DictWriter(f, fieldnames=fieldnames, lineterminator = '\\n')\n",
        "    writer.writeheader()\n",
        "\n",
        "    correct = 0\n",
        "    total = 0\n",
        "\n",
        "    with torch.no_grad():\n",
        "\n",
        "        for x, t in test_loader:\n",
        "\n",
        "            x = x.to(device).float()\n",
        "            output = model(x).argmax(dim=1)\n",
        "\n",
        "            for y,l in zip(output, t):\n",
        "\n",
        "                writer.writerow({fieldnames[0]: (total+1),\n",
        "                                 fieldnames[1]: y.item(),\n",
        "                                 fieldnames[2]: l.item()})\n",
        "\n",
        "                total += 1\n",
        "                if y.item() == l.item():\n",
        "                    correct += 1\n",
        "\n",
        "    print('Accuracy: %6.4f' % (correct / total))"
      ]
    },
    {
      "cell_type": "code",
      "execution_count": 74,
      "id": "cc305626",
      "metadata": {
        "id": "cc305626"
      },
      "outputs": [],
      "source": []
    }
  ],
  "metadata": {
    "kernelspec": {
      "display_name": "Python 3",
      "name": "python3"
    },
    "language_info": {
      "codemirror_mode": {
        "name": "ipython",
        "version": 3
      },
      "file_extension": ".py",
      "mimetype": "text/x-python",
      "name": "python",
      "nbconvert_exporter": "python",
      "pygments_lexer": "ipython3",
      "version": "3.9.13"
    },
    "colab": {
      "provenance": [],
      "gpuType": "T4"
    },
    "accelerator": "GPU"
  },
  "nbformat": 4,
  "nbformat_minor": 5
}